{
 "cells": [
  {
   "cell_type": "markdown",
   "metadata": {
    "collapsed": true
   },
   "source": [
    "# My Jupyter Notebook on IBM Watson Studio"
   ]
  },
  {
   "cell_type": "markdown",
   "metadata": {},
   "source": [
    "## **Victoria Marsh**\n",
    "Business Planning Manager "
   ]
  },
  {
   "cell_type": "markdown",
   "metadata": {},
   "source": [
    "*Data Science Interests me because I love to investigate, discover and communicate findings in a variety of visual formats* "
   ]
  },
  {
   "cell_type": "markdown",
   "metadata": {},
   "source": [
    "### My code below is calculating 9 multiplied by 3 "
   ]
  },
  {
   "cell_type": "code",
   "execution_count": 2,
   "metadata": {},
   "outputs": [
    {
     "data": {
      "text/plain": [
       "27"
      ]
     },
     "execution_count": 2,
     "metadata": {},
     "output_type": "execute_result"
    }
   ],
   "source": [
    "9*3"
   ]
  },
  {
   "cell_type": "markdown",
   "metadata": {},
   "source": [
    "### Learning the `9 times` table \n",
    "\n",
    "| Number  | Times Table | Answer|\n",
    "| ------- |:---------- :| -----:|\n",
    "| 0       |     x 9     | 0     |\n",
    "| 1       |     x 9     | 9     |\n",
    "| 2       |     x 9     | 18    |\n",
    "| 3       |     x 9     | 27    |\n",
    "\n",
    "To Learn the rest of the 9 times table, use this learning resource \n",
    "https://www.timestables.co.uk/9-times-table.html\n",
    "\n"
   ]
  }
 ],
 "metadata": {
  "kernelspec": {
   "display_name": "Python 3.9",
   "language": "python",
   "name": "python3"
  },
  "language_info": {
   "codemirror_mode": {
    "name": "ipython",
    "version": 3
   },
   "file_extension": ".py",
   "mimetype": "text/x-python",
   "name": "python",
   "nbconvert_exporter": "python",
   "pygments_lexer": "ipython3",
   "version": "3.9.12"
  }
 },
 "nbformat": 4,
 "nbformat_minor": 1
}
